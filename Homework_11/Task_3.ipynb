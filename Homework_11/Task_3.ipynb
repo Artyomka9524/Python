{
 "cells": [
  {
   "cell_type": "markdown",
   "id": "36dcee34",
   "metadata": {},
   "source": [
    "## Задача 3"
   ]
  },
  {
   "cell_type": "code",
   "execution_count": 1,
   "id": "37130b68",
   "metadata": {},
   "outputs": [],
   "source": [
    "# f(x) = (x ** 2 + 3) / (3 * (x + 1))"
   ]
  },
  {
   "cell_type": "code",
   "execution_count": 2,
   "id": "4a3d0029",
   "metadata": {},
   "outputs": [],
   "source": [
    "from sympy import *\n",
    "from sympy.plotting import plot\n",
    "from math import *\n",
    "init_printing()"
   ]
  },
  {
   "cell_type": "code",
   "execution_count": 3,
   "id": "a70c7d6c",
   "metadata": {},
   "outputs": [],
   "source": [
    "x = Symbol('x')"
   ]
  },
  {
   "cell_type": "code",
   "execution_count": 4,
   "id": "8510045d",
   "metadata": {},
   "outputs": [
    {
     "data": {
      "image/png": "[encoded data removed]",
      "text/latex": [
       "$\\displaystyle \\frac{x^{2} + 3}{3 x + 3}$"
      ],
      "text/plain": [
       "  2    \n",
       " x  + 3\n",
       "───────\n",
       "3⋅x + 3"
      ]
     },
     "execution_count": 4,
     "metadata": {},
     "output_type": "execute_result"
    }
   ],
   "source": [
    "f = (x ** 2 + 3) / (3 * (x + 1))\n",
    "f"
   ]
  },
  {
   "cell_type": "markdown",
   "id": "fb4a6863",
   "metadata": {},
   "source": [
    "## 1. Определить корни"
   ]
  },
  {
   "cell_type": "code",
   "execution_count": 5,
   "id": "c671922d",
   "metadata": {},
   "outputs": [
    {
     "data": {
      "image/png": "[encoded data removed]",
      "text/latex": [
       "$\\displaystyle \\left\\{- \\sqrt{3} i, \\sqrt{3} i\\right\\}$"
      ],
      "text/plain": [
       "{-√3⋅ⅈ, √3⋅ⅈ}"
      ]
     },
     "execution_count": 5,
     "metadata": {},
     "output_type": "execute_result"
    }
   ],
   "source": [
    "solveset(f)"
   ]
  },
  {
   "cell_type": "markdown",
   "id": "b97610fc",
   "metadata": {},
   "source": [
    "## 2. Найти интервалы, на которых функция возрастает\n",
    "## 3. Найти интервалы, на которых функция убывает"
   ]
  },
  {
   "cell_type": "code",
   "execution_count": 6,
   "id": "4fb11b53",
   "metadata": {},
   "outputs": [
    {
     "data": {
      "text/latex": [
       "$\\displaystyle \\left\\{x\\; \\middle|\\; x \\in \\mathbb{C} \\wedge \\frac{x^{2} + 3}{3 x + 3} < 0 \\right\\}$"
      ],
      "text/plain": [
       "⎧  │         ⎛  2        ⎞⎫\n",
       "⎪  │         ⎜ x  + 3    ⎟⎪\n",
       "⎨x │ x ∊ ℂ ∧ ⎜─────── < 0⎟⎬\n",
       "⎪  │         ⎝3⋅x + 3    ⎠⎪\n",
       "⎩  │                      ⎭"
      ]
     },
     "execution_count": 6,
     "metadata": {},
     "output_type": "execute_result"
    }
   ],
   "source": [
    "solveset(f<0)"
   ]
  },
  {
   "cell_type": "code",
   "execution_count": 7,
   "id": "1681ff3e",
   "metadata": {},
   "outputs": [
    {
     "data": {
      "text/latex": [
       "$\\displaystyle \\left\\{x\\; \\middle|\\; x \\in \\mathbb{C} \\wedge \\frac{x^{2} + 3}{3 x + 3} > 0 \\right\\}$"
      ],
      "text/plain": [
       "⎧  │         ⎛  2        ⎞⎫\n",
       "⎪  │         ⎜ x  + 3    ⎟⎪\n",
       "⎨x │ x ∊ ℂ ∧ ⎜─────── > 0⎟⎬\n",
       "⎪  │         ⎝3⋅x + 3    ⎠⎪\n",
       "⎩  │                      ⎭"
      ]
     },
     "execution_count": 7,
     "metadata": {},
     "output_type": "execute_result"
    }
   ],
   "source": [
    "solveset(f>0)"
   ]
  },
  {
   "cell_type": "code",
   "execution_count": 22,
   "id": "949f3003",
   "metadata": {},
   "outputs": [
    {
     "data": {
      "image/png": "[encoded data removed]",
      "text/latex": [
       "$\\displaystyle \\left[ -\\infty, \\  -3, \\  1, \\  \\infty\\right]$"
      ],
      "text/plain": [
       "[-∞, -3, 1, ∞]"
      ]
     },
     "execution_count": 22,
     "metadata": {},
     "output_type": "execute_result"
    }
   ],
   "source": [
    "result = [-oo, oo]\n",
    "result[1:1] = solve(diff(f), x)\n",
    "result"
   ]
  },
  {
   "cell_type": "code",
   "execution_count": 23,
   "id": "cb7e4af8",
   "metadata": {},
   "outputs": [
    {
     "name": "stdout",
     "output_type": "stream",
     "text": [
      "Убывает ['-oo, -3', '1, oo']\n",
      "Возрастает ['-3, 1']\n"
     ]
    }
   ],
   "source": [
    "res_increase = []\n",
    "res_dicrease = []\n",
    "for i in range(1, len(result)):\n",
    "    if is_increasing(f, Interval.open(result[i - 1], result[i])):\n",
    "        res_dicrease.append(f\"{result[i - 1]}, {result[i]}\")\n",
    "    else:\n",
    "        res_increase.append(f\"{result[i - 1]}, {result[i]}\")\n",
    "print(f\"Убывает {res_dicrease}\")\n",
    "print(f\"Возрастает {res_increase}\")"
   ]
  },
  {
   "cell_type": "markdown",
   "id": "aa98c3f0",
   "metadata": {},
   "source": [
    "## 4. Построить график"
   ]
  },
  {
   "cell_type": "code",
   "execution_count": 19,
   "id": "6af63346",
   "metadata": {},
   "outputs": [
    {
     "data": {
      "image/png": "[encoded data removed]",
      "text/plain": [
       "<Figure size 640x480 with 1 Axes>"
      ]
     },
     "metadata": {},
     "output_type": "display_data"
    },
    {
     "name": "stdout",
     "output_type": "stream",
     "text": [
      "(x**2 + 3)/(3*x + 3)\n"
     ]
    }
   ],
   "source": [
    "plot(f, (x, -1, 1),line_color='red', title='График f(x) = (x ** 2 + 3) / (3 * (x + 1))')\n",
    "print(f)"
   ]
  },
  {
   "cell_type": "markdown",
   "id": "60d1c05f",
   "metadata": {},
   "source": [
    "## 5. Вычислить вершину"
   ]
  },
  {
   "cell_type": "code",
   "execution_count": 21,
   "id": "a6460fc3",
   "metadata": {},
   "outputs": [
    {
     "name": "stdout",
     "output_type": "stream",
     "text": [
      "-2 точка минимума от -3\n",
      "2/3 точка максимума от 1\n"
     ]
    }
   ],
   "source": [
    "result_func = solve(diff(f), x)\n",
    "for i in result_func:\n",
    "    check = f.subs(x, i)\n",
    "    if check < 0:\n",
    "        print(f\"{check} точка минимума от {i}\")\n",
    "    elif check > 0:\n",
    "        print(f\"{check} точка максимума от {i}\")\n",
    "    elif check == 0:\n",
    "        print(f\"{check} находится на оси x\")"
   ]
  },
  {
   "cell_type": "markdown",
   "id": "6ccc47c5",
   "metadata": {},
   "source": [
    "## 6. Определить промежутки, на котором f > 0\n",
    "## 7. Определить промежутки, на котором f < 0"
   ]
  },
  {
   "cell_type": "code",
   "execution_count": 31,
   "id": "61ee29c6",
   "metadata": {},
   "outputs": [
    {
     "ename": "ValueError",
     "evalue": "Non-real intervals are not supported",
     "output_type": "error",
     "traceback": [
      "\u001b[1;31m---------------------------------------------------------------------------\u001b[0m",
      "\u001b[1;31mValueError\u001b[0m                                Traceback (most recent call last)",
      "\u001b[1;32m~\\AppData\\Local\\Temp\\ipykernel_10496\\2015530764.py\u001b[0m in \u001b[0;36m<module>\u001b[1;34m\u001b[0m\n\u001b[0;32m      5\u001b[0m \u001b[0mres_dicrease\u001b[0m \u001b[1;33m=\u001b[0m \u001b[1;33m[\u001b[0m\u001b[1;33m]\u001b[0m\u001b[1;33m\u001b[0m\u001b[1;33m\u001b[0m\u001b[0m\n\u001b[0;32m      6\u001b[0m \u001b[1;32mfor\u001b[0m \u001b[0mi\u001b[0m \u001b[1;32min\u001b[0m \u001b[0mrange\u001b[0m\u001b[1;33m(\u001b[0m\u001b[1;36m1\u001b[0m\u001b[1;33m,\u001b[0m \u001b[0mlen\u001b[0m\u001b[1;33m(\u001b[0m\u001b[0mresult\u001b[0m\u001b[1;33m)\u001b[0m\u001b[1;33m)\u001b[0m\u001b[1;33m:\u001b[0m\u001b[1;33m\u001b[0m\u001b[1;33m\u001b[0m\u001b[0m\n\u001b[1;32m----> 7\u001b[1;33m     \u001b[1;32mif\u001b[0m \u001b[0mis_increasing\u001b[0m\u001b[1;33m(\u001b[0m\u001b[0mf\u001b[0m\u001b[1;33m,\u001b[0m \u001b[0mInterval\u001b[0m\u001b[1;33m.\u001b[0m\u001b[0mopen\u001b[0m\u001b[1;33m(\u001b[0m\u001b[0mresult\u001b[0m\u001b[1;33m[\u001b[0m\u001b[0mi\u001b[0m\u001b[1;33m]\u001b[0m\u001b[1;33m,\u001b[0m \u001b[0mresult\u001b[0m\u001b[1;33m[\u001b[0m\u001b[0mi\u001b[0m \u001b[1;33m+\u001b[0m \u001b[1;36m1\u001b[0m\u001b[1;33m]\u001b[0m\u001b[1;33m)\u001b[0m\u001b[1;33m)\u001b[0m\u001b[1;33m:\u001b[0m\u001b[1;33m\u001b[0m\u001b[1;33m\u001b[0m\u001b[0m\n\u001b[0m\u001b[0;32m      8\u001b[0m         \u001b[0mres_dicrease\u001b[0m\u001b[1;33m.\u001b[0m\u001b[0mappend\u001b[0m\u001b[1;33m(\u001b[0m\u001b[1;34mf\"{result[i]}, {result[i + 1]}\"\u001b[0m\u001b[1;33m)\u001b[0m\u001b[1;33m\u001b[0m\u001b[1;33m\u001b[0m\u001b[0m\n\u001b[0;32m      9\u001b[0m     \u001b[1;32melse\u001b[0m\u001b[1;33m:\u001b[0m\u001b[1;33m\u001b[0m\u001b[1;33m\u001b[0m\u001b[0m\n",
      "\u001b[1;32m~\\anaconda3\\lib\\site-packages\\sympy\\sets\\sets.py\u001b[0m in \u001b[0;36mopen\u001b[1;34m(cls, a, b)\u001b[0m\n\u001b[0;32m   1037\u001b[0m     \u001b[1;32mdef\u001b[0m \u001b[0mopen\u001b[0m\u001b[1;33m(\u001b[0m\u001b[0mcls\u001b[0m\u001b[1;33m,\u001b[0m \u001b[0ma\u001b[0m\u001b[1;33m,\u001b[0m \u001b[0mb\u001b[0m\u001b[1;33m)\u001b[0m\u001b[1;33m:\u001b[0m\u001b[1;33m\u001b[0m\u001b[1;33m\u001b[0m\u001b[0m\n\u001b[0;32m   1038\u001b[0m         \u001b[1;34m\"\"\"Return an interval including neither boundary.\"\"\"\u001b[0m\u001b[1;33m\u001b[0m\u001b[1;33m\u001b[0m\u001b[0m\n\u001b[1;32m-> 1039\u001b[1;33m         \u001b[1;32mreturn\u001b[0m \u001b[0mcls\u001b[0m\u001b[1;33m(\u001b[0m\u001b[0ma\u001b[0m\u001b[1;33m,\u001b[0m \u001b[0mb\u001b[0m\u001b[1;33m,\u001b[0m \u001b[1;32mTrue\u001b[0m\u001b[1;33m,\u001b[0m \u001b[1;32mTrue\u001b[0m\u001b[1;33m)\u001b[0m\u001b[1;33m\u001b[0m\u001b[1;33m\u001b[0m\u001b[0m\n\u001b[0m\u001b[0;32m   1040\u001b[0m \u001b[1;33m\u001b[0m\u001b[0m\n\u001b[0;32m   1041\u001b[0m     \u001b[1;33m@\u001b[0m\u001b[0mclassmethod\u001b[0m\u001b[1;33m\u001b[0m\u001b[1;33m\u001b[0m\u001b[0m\n",
      "\u001b[1;32m~\\anaconda3\\lib\\site-packages\\sympy\\sets\\sets.py\u001b[0m in \u001b[0;36m__new__\u001b[1;34m(cls, start, end, left_open, right_open)\u001b[0m\n\u001b[0;32m    941\u001b[0m         \u001b[1;31m# Only allow real intervals\u001b[0m\u001b[1;33m\u001b[0m\u001b[1;33m\u001b[0m\u001b[0m\n\u001b[0;32m    942\u001b[0m         \u001b[1;32mif\u001b[0m \u001b[0mfuzzy_not\u001b[0m\u001b[1;33m(\u001b[0m\u001b[0mfuzzy_and\u001b[0m\u001b[1;33m(\u001b[0m\u001b[0mi\u001b[0m\u001b[1;33m.\u001b[0m\u001b[0mis_extended_real\u001b[0m \u001b[1;32mfor\u001b[0m \u001b[0mi\u001b[0m \u001b[1;32min\u001b[0m \u001b[1;33m(\u001b[0m\u001b[0mstart\u001b[0m\u001b[1;33m,\u001b[0m \u001b[0mend\u001b[0m\u001b[1;33m,\u001b[0m \u001b[0mend\u001b[0m\u001b[1;33m-\u001b[0m\u001b[0mstart\u001b[0m\u001b[1;33m)\u001b[0m\u001b[1;33m)\u001b[0m\u001b[1;33m)\u001b[0m\u001b[1;33m:\u001b[0m\u001b[1;33m\u001b[0m\u001b[1;33m\u001b[0m\u001b[0m\n\u001b[1;32m--> 943\u001b[1;33m             \u001b[1;32mraise\u001b[0m \u001b[0mValueError\u001b[0m\u001b[1;33m(\u001b[0m\u001b[1;34m\"Non-real intervals are not supported\"\u001b[0m\u001b[1;33m)\u001b[0m\u001b[1;33m\u001b[0m\u001b[1;33m\u001b[0m\u001b[0m\n\u001b[0m\u001b[0;32m    944\u001b[0m \u001b[1;33m\u001b[0m\u001b[0m\n\u001b[0;32m    945\u001b[0m         \u001b[1;31m# evaluate if possible\u001b[0m\u001b[1;33m\u001b[0m\u001b[1;33m\u001b[0m\u001b[0m\n",
      "\u001b[1;31mValueError\u001b[0m: Non-real intervals are not supported"
     ]
    }
   ],
   "source": [
    "result = [-oo, oo]\n",
    "result[1:1] = solve(f, x)\n",
    "result\n",
    "res_increase = []\n",
    "res_dicrease = []\n",
    "for i in range(1, len(result)):\n",
    "    if is_increasing(f, Interval.open(result[i - 1], result[i])):\n",
    "        res_dicrease.append(f\"{result[i - 1]}, {result[i]}\")\n",
    "    else:\n",
    "        res_increase.append(f\"{result[i - 1]}, {result[i]}\")\n",
    "print(f\"f > 0 {res_dicrease}\")\n",
    "print(f\"f < 0 {res_increase}\")"
   ]
  },
  {
   "cell_type": "code",
   "execution_count": null,
   "id": "1b7c67d0",
   "metadata": {},
   "outputs": [],
   "source": []
  }
 ],
 "metadata": {
  "kernelspec": {
   "display_name": "Python 3 (ipykernel)",
   "language": "python",
   "name": "python3"
  },
  "language_info": {
   "codemirror_mode": {
    "name": "ipython",
    "version": 3
   },
   "file_extension": ".py",
   "mimetype": "text/x-python",
   "name": "python",
   "nbconvert_exporter": "python",
   "pygments_lexer": "ipython3",
   "version": "3.9.13"
  }
 },
 "nbformat": 4,
 "nbformat_minor": 5
}
