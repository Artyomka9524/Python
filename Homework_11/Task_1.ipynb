{
 "cells": [
  {
   "cell_type": "markdown",
   "id": "7e61f92e",
   "metadata": {},
   "source": [
    "## Задача 1"
   ]
  },
  {
   "cell_type": "code",
   "execution_count": null,
   "id": "90dcdeb6",
   "metadata": {},
   "outputs": [],
   "source": [
    "# f(x) = -18x^3 + 5x^2 + 10x - 30"
   ]
  },
  {
   "cell_type": "code",
   "execution_count": 7,
   "id": "5259348d",
   "metadata": {},
   "outputs": [],
   "source": [
    "from sympy import *\n",
    "from sympy.plotting import plot\n",
    "from math import *\n",
    "init_printing()"
   ]
  },
  {
   "cell_type": "code",
   "execution_count": 10,
   "id": "78a9c70f",
   "metadata": {},
   "outputs": [],
   "source": [
    "x = Symbol('x')"
   ]
  },
  {
   "cell_type": "code",
   "execution_count": 40,
   "id": "057fc0b2",
   "metadata": {},
   "outputs": [
    {
     "data": {
      "image/png": "[encoded data removed]",
      "text/latex": [
       "$\\displaystyle - 18 x^{3} + 5 x^{2} + 10 x - 30$"
      ],
      "text/plain": [
       "      3      2            \n",
       "- 18⋅x  + 5⋅x  + 10⋅x - 30"
      ]
     },
     "execution_count": 40,
     "metadata": {},
     "output_type": "execute_result"
    }
   ],
   "source": [
    "f = -18 * (x)**3 + 5*(x)**2 + 10 *x - 30\n",
    "f"
   ]
  },
  {
   "cell_type": "markdown",
   "id": "89bda948",
   "metadata": {},
   "source": [
    "## 1. Определить корни"
   ]
  },
  {
   "cell_type": "code",
   "execution_count": 44,
   "id": "83649b72",
   "metadata": {},
   "outputs": [
    {
     "data": {
      "image/png": "[encoded data removed]",
      "text/latex": [
       "$\\displaystyle \\left\\{- \\frac{\\sqrt[3]{\\frac{5 \\sqrt{218931}}{108} + \\frac{127045}{5832}}}{3} - \\frac{565}{972 \\sqrt[3]{\\frac{5 \\sqrt{218931}}{108} + \\frac{127045}{5832}}} + \\frac{5}{54}, \\frac{565}{1944 \\sqrt[3]{\\frac{5 \\sqrt{218931}}{108} + \\frac{127045}{5832}}} + \\frac{5}{54} + \\frac{\\sqrt[3]{\\frac{5 \\sqrt{218931}}{108} + \\frac{127045}{5832}}}{6} + i \\left(- \\frac{565 \\sqrt{3}}{1944 \\sqrt[3]{\\frac{5 \\sqrt{218931}}{108} + \\frac{127045}{5832}}} + \\frac{\\sqrt{3} \\sqrt[3]{\\frac{5 \\sqrt{218931}}{108} + \\frac{127045}{5832}}}{6}\\right), \\frac{565}{1944 \\sqrt[3]{\\frac{5 \\sqrt{218931}}{108} + \\frac{127045}{5832}}} + \\frac{5}{54} + \\frac{\\sqrt[3]{\\frac{5 \\sqrt{218931}}{108} + \\frac{127045}{5832}}}{6} + i \\left(- \\frac{\\sqrt{3} \\sqrt[3]{\\frac{5 \\sqrt{218931}}{108} + \\frac{127045}{5832}}}{6} + \\frac{565 \\sqrt{3}}{1944 \\sqrt[3]{\\frac{5 \\sqrt{218931}}{108} + \\frac{127045}{5832}}}\\right)\\right\\}$"
      ],
      "text/plain": [
       "⎧      ____________________                                                   \n",
       "⎪     ╱ 5⋅√218931   127045                                                    \n",
       "⎪  3 ╱  ───────── + ──────                                                    \n",
       "⎪  ╲╱      108       5832                 565                5                \n",
       "⎨- ──────────────────────── - ──────────────────────────── + ──, ─────────────\n",
       "⎪             3                       ____________________   54           ____\n",
       "⎪                                    ╱ 5⋅√218931   127045                ╱ 5⋅√\n",
       "⎪                             972⋅3 ╱  ───────── + ──────        1944⋅3 ╱  ───\n",
       "⎩                                 ╲╱      108       5832              ╲╱      \n",
       "\n",
       "                            ____________________     ⎛                        \n",
       "                           ╱ 5⋅√218931   127045      ⎜                        \n",
       "                        3 ╱  ───────── + ──────      ⎜                        \n",
       "565                5    ╲╱      108       5832       ⎜              565⋅√3    \n",
       "──────────────── + ── + ──────────────────────── + ⅈ⋅⎜- ──────────────────────\n",
       "________________   54              6                 ⎜           _____________\n",
       "218931   127045                                      ⎜          ╱ 5⋅√218931   \n",
       "────── + ──────                                      ⎜  1944⋅3 ╱  ───────── + \n",
       "108       5832                                       ⎝       ╲╱      108      \n",
       "\n",
       "                 ____________________⎞                                        \n",
       "                ╱ 5⋅√218931   127045 ⎟                                        \n",
       "          √3⋅3 ╱  ───────── + ────── ⎟                                       3\n",
       "             ╲╱      108       5832  ⎟               565                5    ╲\n",
       "─────── + ───────────────────────────⎟, ───────────────────────────── + ── + ─\n",
       "_______                6             ⎟           ____________________   54    \n",
       "127045                               ⎟          ╱ 5⋅√218931   127045          \n",
       "──────                               ⎟  1944⋅3 ╱  ───────── + ──────          \n",
       " 5832                                ⎠       ╲╱      108       5832           \n",
       "\n",
       "   ____________________     ⎛         ____________________                    \n",
       "  ╱ 5⋅√218931   127045      ⎜        ╱ 5⋅√218931   127045                     \n",
       " ╱  ───────── + ──────      ⎜  √3⋅3 ╱  ───────── + ──────                     \n",
       "╱      108       5832       ⎜     ╲╱      108       5832                 565⋅√\n",
       "─────────────────────── + ⅈ⋅⎜- ─────────────────────────── + ─────────────────\n",
       "          6                 ⎜               6                         ________\n",
       "                            ⎜                                        ╱ 5⋅√2189\n",
       "                            ⎜                                1944⋅3 ╱  ───────\n",
       "                            ⎝                                     ╲╱      108 \n",
       "\n",
       "            ⎞⎫\n",
       "            ⎟⎪\n",
       "            ⎟⎪\n",
       "3           ⎟⎪\n",
       "────────────⎟⎬\n",
       "____________⎟⎪\n",
       "31   127045 ⎟⎪\n",
       "── + ────── ⎟⎪\n",
       "      5832  ⎠⎭"
      ]
     },
     "execution_count": 44,
     "metadata": {},
     "output_type": "execute_result"
    }
   ],
   "source": [
    "solveset(f)"
   ]
  },
  {
   "cell_type": "markdown",
   "id": "6d0cd107",
   "metadata": {},
   "source": [
    "## 2. Найти интервалы, на которых функция возрастает\n",
    "## 3. Найти интервалы, на которых функция убывает"
   ]
  },
  {
   "cell_type": "code",
   "execution_count": 49,
   "id": "74c90c7c",
   "metadata": {},
   "outputs": [
    {
     "data": {
      "text/latex": [
       "$\\displaystyle \\left\\{x\\; \\middle|\\; x \\in \\mathbb{C} \\wedge - 18 x^{3} + 5 x^{2} + 10 x - 30 < 0 \\right\\}$"
      ],
      "text/plain": [
       "⎧  │         ⎛      3      2                ⎞⎫\n",
       "⎨x │ x ∊ ℂ ∧ ⎝- 18⋅x  + 5⋅x  + 10⋅x - 30 < 0⎠⎬\n",
       "⎩  │                                         ⎭"
      ]
     },
     "execution_count": 49,
     "metadata": {},
     "output_type": "execute_result"
    }
   ],
   "source": [
    "solveset(f<0)"
   ]
  },
  {
   "cell_type": "code",
   "execution_count": 54,
   "id": "fbbc9240",
   "metadata": {},
   "outputs": [
    {
     "data": {
      "text/latex": [
       "$\\displaystyle \\left\\{x\\; \\middle|\\; x \\in \\mathbb{C} \\wedge - 18 x^{3} + 5 x^{2} + 10 x - 30 > 0 \\right\\}$"
      ],
      "text/plain": [
       "⎧  │         ⎛      3      2                ⎞⎫\n",
       "⎨x │ x ∊ ℂ ∧ ⎝- 18⋅x  + 5⋅x  + 10⋅x - 30 > 0⎠⎬\n",
       "⎩  │                                         ⎭"
      ]
     },
     "execution_count": 54,
     "metadata": {},
     "output_type": "execute_result"
    }
   ],
   "source": [
    "solveset(f>0)"
   ]
  },
  {
   "cell_type": "code",
   "execution_count": 56,
   "id": "3734163a",
   "metadata": {},
   "outputs": [
    {
     "data": {
      "image/png": "[encoded data removed]",
      "text/latex": [
       "$\\displaystyle \\left[ -\\infty, \\  \\frac{5}{54} - \\frac{\\sqrt{565}}{54}, \\  \\frac{5}{54} + \\frac{\\sqrt{565}}{54}, \\  \\infty\\right]$"
      ],
      "text/plain": [
       "⎡    5    √565  5    √565   ⎤\n",
       "⎢-∞, ── - ────, ── + ────, ∞⎥\n",
       "⎣    54    54   54    54    ⎦"
      ]
     },
     "execution_count": 56,
     "metadata": {},
     "output_type": "execute_result"
    }
   ],
   "source": [
    "result = [-oo, oo]\n",
    "result[1:1] = solve(diff(f), x)\n",
    "result"
   ]
  },
  {
   "cell_type": "code",
   "execution_count": 62,
   "id": "fcbe7884",
   "metadata": {},
   "outputs": [
    {
     "name": "stdout",
     "output_type": "stream",
     "text": [
      "Убывает ['5/54 - sqrt(565)/54, 5/54 + sqrt(565)/54']\n",
      "Возрастает ['-oo, 5/54 - sqrt(565)/54', '5/54 + sqrt(565)/54, oo']\n"
     ]
    }
   ],
   "source": [
    "res_increase = []\n",
    "res_dicrease = []\n",
    "for i in range(1, len(result)):\n",
    "    if is_increasing(f, Interval.open(result[i - 1], result[i])):\n",
    "        res_dicrease.append(f\"{result[i - 1]}, {result[i]}\")\n",
    "    else:\n",
    "        res_increase.append(f\"{result[i - 1]}, {result[i]}\")\n",
    "print(f\"Убывает {res_dicrease}\")\n",
    "print(f\"Возрастает {res_increase}\")"
   ]
  },
  {
   "cell_type": "markdown",
   "id": "41e0be6c",
   "metadata": {},
   "source": [
    "## 4. Построить график"
   ]
  },
  {
   "cell_type": "code",
   "execution_count": 67,
   "id": "ef11e00f",
   "metadata": {},
   "outputs": [
    {
     "data": {
      "image/png": "[encoded data removed]",
      "text/plain": [
       "<Figure size 640x480 with 1 Axes>"
      ]
     },
     "metadata": {},
     "output_type": "display_data"
    },
    {
     "name": "stdout",
     "output_type": "stream",
     "text": [
      "-18*x**3 + 5*x**2 + 10*x - 30\n"
     ]
    }
   ],
   "source": [
    "plot(f, (x, -2, 2),line_color='red', title='График f(x) = -18x^3 + 5x^2 + 10x - 30')\n",
    "print(f)"
   ]
  },
  {
   "cell_type": "markdown",
   "id": "944db4e2",
   "metadata": {},
   "source": [
    "## 5. Вычислить вершину"
   ]
  },
  {
   "cell_type": "code",
   "execution_count": 63,
   "id": "563066ee",
   "metadata": {},
   "outputs": [
    {
     "name": "stdout",
     "output_type": "stream",
     "text": [
      "-785/27 - 5*sqrt(565)/27 + 5*(5/54 - sqrt(565)/54)**2 - 18*(5/54 - sqrt(565)/54)**3 точка минимума от 5/54 - sqrt(565)/54\n",
      "-785/27 - 18*(5/54 + sqrt(565)/54)**3 + 5*(5/54 + sqrt(565)/54)**2 + 5*sqrt(565)/27 точка минимума от 5/54 + sqrt(565)/54\n"
     ]
    }
   ],
   "source": [
    "result_func = solve(diff(f), x)\n",
    "for i in result_func:\n",
    "    check = f.subs(x, i)\n",
    "    if check < 0:\n",
    "        print(f\"{check} точка минимума от {i}\")\n",
    "    elif check > 0:\n",
    "        print(f\"{check} точка максимума от {i}\")\n",
    "    elif check == 0:\n",
    "        print(f\"{check} находится на оси x\")\n",
    "        "
   ]
  },
  {
   "cell_type": "markdown",
   "id": "a4275b4e",
   "metadata": {},
   "source": [
    "## 6. Определить промежутки, на котором f > 0\n",
    "## 7. Определить промежутки, на котором f < 0"
   ]
  },
  {
   "cell_type": "code",
   "execution_count": 68,
   "id": "0715714e",
   "metadata": {},
   "outputs": [
    {
     "name": "stdout",
     "output_type": "stream",
     "text": [
      "f > 0 []\n",
      "f < 0 ['-oo, 5/54 - 565/(972*(-1/2 - sqrt(3)*I/2)*(5*sqrt(218931)/108 + 127045/5832)**(1/3)) - (-1/2 - sqrt(3)*I/2)*(5*sqrt(218931)/108 + 127045/5832)**(1/3)/3', '5/54 - 565/(972*(-1/2 - sqrt(3)*I/2)*(5*sqrt(218931)/108 + 127045/5832)**(1/3)) - (-1/2 - sqrt(3)*I/2)*(5*sqrt(218931)/108 + 127045/5832)**(1/3)/3, 5/54 - (-1/2 + sqrt(3)*I/2)*(5*sqrt(218931)/108 + 127045/5832)**(1/3)/3 - 565/(972*(-1/2 + sqrt(3)*I/2)*(5*sqrt(218931)/108 + 127045/5832)**(1/3))', '5/54 - (-1/2 + sqrt(3)*I/2)*(5*sqrt(218931)/108 + 127045/5832)**(1/3)/3 - 565/(972*(-1/2 + sqrt(3)*I/2)*(5*sqrt(218931)/108 + 127045/5832)**(1/3)), -(5*sqrt(218931)/108 + 127045/5832)**(1/3)/3 - 565/(972*(5*sqrt(218931)/108 + 127045/5832)**(1/3)) + 5/54', '-(5*sqrt(218931)/108 + 127045/5832)**(1/3)/3 - 565/(972*(5*sqrt(218931)/108 + 127045/5832)**(1/3)) + 5/54, oo']\n"
     ]
    }
   ],
   "source": [
    "result = [-oo, oo]\n",
    "result[1:1] = solve(f, x)\n",
    "result\n",
    "res_increase = []\n",
    "res_dicrease = []\n",
    "for i in range(1, len(result)):\n",
    "    if is_increasing(f, Interval.open(result[i - 1], result[i])):\n",
    "        res_dicrease.append(f\"{result[i - 1]}, {result[i]}\")\n",
    "    else:\n",
    "        res_increase.append(f\"{result[i - 1]}, {result[i]}\")\n",
    "print(f\"f > 0 {res_dicrease}\")\n",
    "print(f\"f < 0 {res_increase}\")"
   ]
  },
  {
   "cell_type": "code",
   "execution_count": null,
   "id": "fa3d4396",
   "metadata": {},
   "outputs": [],
   "source": []
  }
 ],
 "metadata": {
  "kernelspec": {
   "display_name": "Python 3 (ipykernel)",
   "language": "python",
   "name": "python3"
  },
  "language_info": {
   "codemirror_mode": {
    "name": "ipython",
    "version": 3
   },
   "file_extension": ".py",
   "mimetype": "text/x-python",
   "name": "python",
   "nbconvert_exporter": "python",
   "pygments_lexer": "ipython3",
   "version": "3.9.13"
  }
 },
 "nbformat": 4,
 "nbformat_minor": 5
}
